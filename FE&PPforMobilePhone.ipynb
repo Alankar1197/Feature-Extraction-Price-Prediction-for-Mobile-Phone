{
 "cells": [
  {
   "cell_type": "markdown",
   "id": "affbec16-1674-4320-bdbe-a2da1b4d4e88",
   "metadata": {},
   "source": [
    "# Feature Extraction & Price Prediction for Mobile Phone"
   ]
  },
  {
   "cell_type": "markdown",
   "id": "adb2590a-b2a0-4418-9a8d-1ba2f4b235db",
   "metadata": {},
   "source": [
    "- This project identifies key factors influencing mobile phone prices using data-driven feature selection and builds predictive models to estimate prices accurately. Insights gained support strategic pricing and targeted marketing decisions."
   ]
  },
  {
   "cell_type": "code",
   "execution_count": 93,
   "id": "551a49a9-dd6e-4e9f-853c-e3ac116de0e2",
   "metadata": {},
   "outputs": [],
   "source": [
    "import pandas as pd\n",
    "import numpy as np\n",
    "import matplotlib.pyplot as plt\n",
    "import seaborn as sns"
   ]
  },
  {
   "cell_type": "markdown",
   "id": "328b0a6c-d169-4b68-9323-d12a3e71c793",
   "metadata": {},
   "source": [
    "- Importing the libraries needed for our project.\r",
    "- \n",
    "Panda-- To work with sheets, csv/excel files, functions for data manipulation\n",
    "-  Nup-y- To perform mathematical and numerical funtions- \n",
    "-  Matplol-ib- To create charts and plots for visualization with more customizable option- s\n",
    "-  Seb-orn- To create charts and plots easily with inbuilt functions\r\n"
   ]
  },
  {
   "cell_type": "code",
   "execution_count": 94,
   "id": "b7b4b4fc-d238-4ecc-8c40-8fefb0dcc1a4",
   "metadata": {},
   "outputs": [],
   "source": [
    "data= pd.read_excel(\"C:/NextHikes Solutions/Feature Extraction and Price Prediction for Mobile Phones/Processed_Flipdata.xlsx\")"
   ]
  },
  {
   "cell_type": "markdown",
   "id": "4fdf643d-ee1f-4687-932e-acbef75fa3a0",
   "metadata": {},
   "source": [
    "- Loading the file- Loading data in tabular form or excel/csv file using Pandas library."
   ]
  },
  {
   "cell_type": "code",
   "execution_count": 95,
   "id": "6c2ddd73-39d8-437c-877f-cb4143cc527a",
   "metadata": {},
   "outputs": [
    {
     "name": "stdout",
     "output_type": "stream",
     "text": [
      "     Unnamed: 0                  Model          Colour  Memory  RAM  Battery_  \\\n",
      "0             0        Infinix SMART 7     Night Black      64    4      6000   \n",
      "1             1        Infinix SMART 7      Azure Blue      64    4      6000   \n",
      "2             2           MOTOROLA G32    Mineral Gray     128    8      5000   \n",
      "3             3               POCO C50      Royal Blue      32    2      5000   \n",
      "4             4        Infinix HOT 30i        Marigold     128    8      5000   \n",
      "..          ...                    ...             ...     ...  ...       ...   \n",
      "536         637  SAMSUNG Galaxy S23 5G           Cream     256    8      3900   \n",
      "537         638               LAVA Z21            Cyan      32    2      3100   \n",
      "538         639         Tecno Spark 8T  Turquoise Cyan      64    4      5000   \n",
      "539         641  SAMSUNG Galaxy A54 5G    Awesome Lime     128    8      5000   \n",
      "540         642               OPPO A77        Sky Blue     128    4      5000   \n",
      "\n",
      "    Rear Camera Front Camera  AI Lens  Mobile Height  \\\n",
      "0          13MP          5MP        1          16.76   \n",
      "1          13MP          5MP        1          16.76   \n",
      "2          50MP         16MP        0          16.64   \n",
      "3           8MP          5MP        0          16.56   \n",
      "4          50MP          5MP        1          16.76   \n",
      "..          ...          ...      ...            ...   \n",
      "536        50MP         12MP        0          15.49   \n",
      "537         5MP          2MP        0          12.70   \n",
      "538        50MP          8MP        0          16.76   \n",
      "539        50MP         32MP        0          16.26   \n",
      "540        50MP          8MP        0          16.66   \n",
      "\n",
      "                      Processor_  Prize  \n",
      "0     Unisoc Spreadtrum SC9863A1   7299  \n",
      "1     Unisoc Spreadtrum SC9863A1   7299  \n",
      "2        Qualcomm Snapdragon 680  11999  \n",
      "3             Mediatek Helio A22   5649  \n",
      "4                            G37   8999  \n",
      "..                           ...    ...  \n",
      "536  Qualcomm Snapdragon 8 Gen 2  79999  \n",
      "537                    Octa Core   5998  \n",
      "538           MediaTek Helio G35   9990  \n",
      "539      Exynos 1380, Octa Core   38999  \n",
      "540           Mediatek Helio G35  15999  \n",
      "\n",
      "[541 rows x 12 columns]\n"
     ]
    }
   ],
   "source": [
    "print(data)"
   ]
  },
  {
   "cell_type": "markdown",
   "id": "d2732301-e7ad-49e8-9f53-75a65d61ecdb",
   "metadata": {},
   "source": [
    "- print- Shows the overall dataset- prints column names and few top and bottom rows data.\r",
    "- \n",
    "Dataset has total121 columns(Categorical & Numerical).- \r\n",
    "Dataset has information such aModel, Colour, Memory, RAM, Battery, Cameraty etc."
   ]
  },
  {
   "cell_type": "code",
   "execution_count": 98,
   "id": "413881b8-645a-4a92-9f32-49265468cb08",
   "metadata": {},
   "outputs": [
    {
     "data": {
      "text/html": [
       "<div>\n",
       "<style scoped>\n",
       "    .dataframe tbody tr th:only-of-type {\n",
       "        vertical-align: middle;\n",
       "    }\n",
       "\n",
       "    .dataframe tbody tr th {\n",
       "        vertical-align: top;\n",
       "    }\n",
       "\n",
       "    .dataframe thead th {\n",
       "        text-align: right;\n",
       "    }\n",
       "</style>\n",
       "<table border=\"1\" class=\"dataframe\">\n",
       "  <thead>\n",
       "    <tr style=\"text-align: right;\">\n",
       "      <th></th>\n",
       "      <th>Unnamed: 0</th>\n",
       "      <th>Model</th>\n",
       "      <th>Colour</th>\n",
       "      <th>Memory</th>\n",
       "      <th>RAM</th>\n",
       "      <th>Battery_</th>\n",
       "      <th>Rear Camera</th>\n",
       "      <th>Front Camera</th>\n",
       "      <th>AI Lens</th>\n",
       "      <th>Mobile Height</th>\n",
       "      <th>Processor_</th>\n",
       "      <th>Prize</th>\n",
       "    </tr>\n",
       "  </thead>\n",
       "  <tbody>\n",
       "    <tr>\n",
       "      <th>0</th>\n",
       "      <td>0</td>\n",
       "      <td>Infinix SMART 7</td>\n",
       "      <td>Night Black</td>\n",
       "      <td>64</td>\n",
       "      <td>4</td>\n",
       "      <td>6000</td>\n",
       "      <td>13MP</td>\n",
       "      <td>5MP</td>\n",
       "      <td>1</td>\n",
       "      <td>16.76</td>\n",
       "      <td>Unisoc Spreadtrum SC9863A1</td>\n",
       "      <td>7299</td>\n",
       "    </tr>\n",
       "    <tr>\n",
       "      <th>1</th>\n",
       "      <td>1</td>\n",
       "      <td>Infinix SMART 7</td>\n",
       "      <td>Azure Blue</td>\n",
       "      <td>64</td>\n",
       "      <td>4</td>\n",
       "      <td>6000</td>\n",
       "      <td>13MP</td>\n",
       "      <td>5MP</td>\n",
       "      <td>1</td>\n",
       "      <td>16.76</td>\n",
       "      <td>Unisoc Spreadtrum SC9863A1</td>\n",
       "      <td>7299</td>\n",
       "    </tr>\n",
       "    <tr>\n",
       "      <th>2</th>\n",
       "      <td>2</td>\n",
       "      <td>MOTOROLA G32</td>\n",
       "      <td>Mineral Gray</td>\n",
       "      <td>128</td>\n",
       "      <td>8</td>\n",
       "      <td>5000</td>\n",
       "      <td>50MP</td>\n",
       "      <td>16MP</td>\n",
       "      <td>0</td>\n",
       "      <td>16.64</td>\n",
       "      <td>Qualcomm Snapdragon 680</td>\n",
       "      <td>11999</td>\n",
       "    </tr>\n",
       "    <tr>\n",
       "      <th>3</th>\n",
       "      <td>3</td>\n",
       "      <td>POCO C50</td>\n",
       "      <td>Royal Blue</td>\n",
       "      <td>32</td>\n",
       "      <td>2</td>\n",
       "      <td>5000</td>\n",
       "      <td>8MP</td>\n",
       "      <td>5MP</td>\n",
       "      <td>0</td>\n",
       "      <td>16.56</td>\n",
       "      <td>Mediatek Helio A22</td>\n",
       "      <td>5649</td>\n",
       "    </tr>\n",
       "    <tr>\n",
       "      <th>4</th>\n",
       "      <td>4</td>\n",
       "      <td>Infinix HOT 30i</td>\n",
       "      <td>Marigold</td>\n",
       "      <td>128</td>\n",
       "      <td>8</td>\n",
       "      <td>5000</td>\n",
       "      <td>50MP</td>\n",
       "      <td>5MP</td>\n",
       "      <td>1</td>\n",
       "      <td>16.76</td>\n",
       "      <td>G37</td>\n",
       "      <td>8999</td>\n",
       "    </tr>\n",
       "  </tbody>\n",
       "</table>\n",
       "</div>"
      ],
      "text/plain": [
       "   Unnamed: 0            Model        Colour  Memory  RAM  Battery_  \\\n",
       "0           0  Infinix SMART 7   Night Black      64    4      6000   \n",
       "1           1  Infinix SMART 7    Azure Blue      64    4      6000   \n",
       "2           2     MOTOROLA G32  Mineral Gray     128    8      5000   \n",
       "3           3         POCO C50    Royal Blue      32    2      5000   \n",
       "4           4  Infinix HOT 30i      Marigold     128    8      5000   \n",
       "\n",
       "  Rear Camera Front Camera  AI Lens  Mobile Height  \\\n",
       "0        13MP          5MP        1          16.76   \n",
       "1        13MP          5MP        1          16.76   \n",
       "2        50MP         16MP        0          16.64   \n",
       "3         8MP          5MP        0          16.56   \n",
       "4        50MP          5MP        1          16.76   \n",
       "\n",
       "                   Processor_  Prize  \n",
       "0  Unisoc Spreadtrum SC9863A1   7299  \n",
       "1  Unisoc Spreadtrum SC9863A1   7299  \n",
       "2     Qualcomm Snapdragon 680  11999  \n",
       "3          Mediatek Helio A22   5649  \n",
       "4                         G37   8999  "
      ]
     },
     "execution_count": 98,
     "metadata": {},
     "output_type": "execute_result"
    }
   ],
   "source": [
    "data.head()"
   ]
  },
  {
   "cell_type": "markdown",
   "id": "457b15dd-50f7-49c5-abaa-334a75316a69",
   "metadata": {},
   "source": [
    "- head- Prints the top 5 rows of the data with column names."
   ]
  },
  {
   "cell_type": "code",
   "execution_count": 97,
   "id": "b8ea1636-f6f3-4cc6-b7ba-e36dedb4f4dd",
   "metadata": {},
   "outputs": [
    {
     "data": {
      "text/html": [
       "<div>\n",
       "<style scoped>\n",
       "    .dataframe tbody tr th:only-of-type {\n",
       "        vertical-align: middle;\n",
       "    }\n",
       "\n",
       "    .dataframe tbody tr th {\n",
       "        vertical-align: top;\n",
       "    }\n",
       "\n",
       "    .dataframe thead th {\n",
       "        text-align: right;\n",
       "    }\n",
       "</style>\n",
       "<table border=\"1\" class=\"dataframe\">\n",
       "  <thead>\n",
       "    <tr style=\"text-align: right;\">\n",
       "      <th></th>\n",
       "      <th>Unnamed: 0</th>\n",
       "      <th>Model</th>\n",
       "      <th>Colour</th>\n",
       "      <th>Memory</th>\n",
       "      <th>RAM</th>\n",
       "      <th>Battery_</th>\n",
       "      <th>Rear Camera</th>\n",
       "      <th>Front Camera</th>\n",
       "      <th>AI Lens</th>\n",
       "      <th>Mobile Height</th>\n",
       "      <th>Processor_</th>\n",
       "      <th>Prize</th>\n",
       "    </tr>\n",
       "  </thead>\n",
       "  <tbody>\n",
       "    <tr>\n",
       "      <th>536</th>\n",
       "      <td>637</td>\n",
       "      <td>SAMSUNG Galaxy S23 5G</td>\n",
       "      <td>Cream</td>\n",
       "      <td>256</td>\n",
       "      <td>8</td>\n",
       "      <td>3900</td>\n",
       "      <td>50MP</td>\n",
       "      <td>12MP</td>\n",
       "      <td>0</td>\n",
       "      <td>15.49</td>\n",
       "      <td>Qualcomm Snapdragon 8 Gen 2</td>\n",
       "      <td>79999</td>\n",
       "    </tr>\n",
       "    <tr>\n",
       "      <th>537</th>\n",
       "      <td>638</td>\n",
       "      <td>LAVA Z21</td>\n",
       "      <td>Cyan</td>\n",
       "      <td>32</td>\n",
       "      <td>2</td>\n",
       "      <td>3100</td>\n",
       "      <td>5MP</td>\n",
       "      <td>2MP</td>\n",
       "      <td>0</td>\n",
       "      <td>12.70</td>\n",
       "      <td>Octa Core</td>\n",
       "      <td>5998</td>\n",
       "    </tr>\n",
       "    <tr>\n",
       "      <th>538</th>\n",
       "      <td>639</td>\n",
       "      <td>Tecno Spark 8T</td>\n",
       "      <td>Turquoise Cyan</td>\n",
       "      <td>64</td>\n",
       "      <td>4</td>\n",
       "      <td>5000</td>\n",
       "      <td>50MP</td>\n",
       "      <td>8MP</td>\n",
       "      <td>0</td>\n",
       "      <td>16.76</td>\n",
       "      <td>MediaTek Helio G35</td>\n",
       "      <td>9990</td>\n",
       "    </tr>\n",
       "    <tr>\n",
       "      <th>539</th>\n",
       "      <td>641</td>\n",
       "      <td>SAMSUNG Galaxy A54 5G</td>\n",
       "      <td>Awesome Lime</td>\n",
       "      <td>128</td>\n",
       "      <td>8</td>\n",
       "      <td>5000</td>\n",
       "      <td>50MP</td>\n",
       "      <td>32MP</td>\n",
       "      <td>0</td>\n",
       "      <td>16.26</td>\n",
       "      <td>Exynos 1380, Octa Core</td>\n",
       "      <td>38999</td>\n",
       "    </tr>\n",
       "    <tr>\n",
       "      <th>540</th>\n",
       "      <td>642</td>\n",
       "      <td>OPPO A77</td>\n",
       "      <td>Sky Blue</td>\n",
       "      <td>128</td>\n",
       "      <td>4</td>\n",
       "      <td>5000</td>\n",
       "      <td>50MP</td>\n",
       "      <td>8MP</td>\n",
       "      <td>0</td>\n",
       "      <td>16.66</td>\n",
       "      <td>Mediatek Helio G35</td>\n",
       "      <td>15999</td>\n",
       "    </tr>\n",
       "  </tbody>\n",
       "</table>\n",
       "</div>"
      ],
      "text/plain": [
       "     Unnamed: 0                  Model          Colour  Memory  RAM  Battery_  \\\n",
       "536         637  SAMSUNG Galaxy S23 5G           Cream     256    8      3900   \n",
       "537         638               LAVA Z21            Cyan      32    2      3100   \n",
       "538         639         Tecno Spark 8T  Turquoise Cyan      64    4      5000   \n",
       "539         641  SAMSUNG Galaxy A54 5G    Awesome Lime     128    8      5000   \n",
       "540         642               OPPO A77        Sky Blue     128    4      5000   \n",
       "\n",
       "    Rear Camera Front Camera  AI Lens  Mobile Height  \\\n",
       "536        50MP         12MP        0          15.49   \n",
       "537         5MP          2MP        0          12.70   \n",
       "538        50MP          8MP        0          16.76   \n",
       "539        50MP         32MP        0          16.26   \n",
       "540        50MP          8MP        0          16.66   \n",
       "\n",
       "                      Processor_  Prize  \n",
       "536  Qualcomm Snapdragon 8 Gen 2  79999  \n",
       "537                    Octa Core   5998  \n",
       "538           MediaTek Helio G35   9990  \n",
       "539      Exynos 1380, Octa Core   38999  \n",
       "540           Mediatek Helio G35  15999  "
      ]
     },
     "execution_count": 97,
     "metadata": {},
     "output_type": "execute_result"
    }
   ],
   "source": [
    "data.tail()"
   ]
  },
  {
   "cell_type": "markdown",
   "id": "41819654-1c61-4c6e-94ee-a2462fe33cef",
   "metadata": {},
   "source": [
    "- tail- Prints last 5 rows of the data with column names."
   ]
  },
  {
   "cell_type": "code",
   "execution_count": 99,
   "id": "14e9b75d-4fd8-43a1-af58-7cf4faa4a928",
   "metadata": {},
   "outputs": [
    {
     "data": {
      "text/plain": [
       "(541, 12)"
      ]
     },
     "execution_count": 99,
     "metadata": {},
     "output_type": "execute_result"
    }
   ],
   "source": [
    "data.shape"
   ]
  },
  {
   "cell_type": "markdown",
   "id": "2df78b5f-1c4f-4094-9fa6-4cf7cafe60b2",
   "metadata": {},
   "source": [
    "- shape- Prints the total number of datapoints- (Total number of rows, Total number of columns)\n",
    "- The dataset has 541 rows and 12 columns. "
   ]
  },
  {
   "cell_type": "code",
   "execution_count": 100,
   "id": "495cb3cc-ba3b-4555-9c36-b7f455556b86",
   "metadata": {},
   "outputs": [
    {
     "data": {
      "text/plain": [
       "Index(['Unnamed: 0', 'Model', 'Colour', 'Memory', 'RAM', 'Battery_',\n",
       "       'Rear Camera', 'Front Camera', 'AI Lens', 'Mobile Height', 'Processor_',\n",
       "       'Prize'],\n",
       "      dtype='object')"
      ]
     },
     "execution_count": 100,
     "metadata": {},
     "output_type": "execute_result"
    }
   ],
   "source": [
    "data.columns"
   ]
  },
  {
   "cell_type": "markdown",
   "id": "f8a2e621-06f0-4365-899e-a47cf8c1af85",
   "metadata": {},
   "source": [
    "- columns- Prints the names of all the columns available in the dataset.\r",
    "- \n",
    "The names of al 120 columns are printed with datatype object of the dataset."
   ]
  },
  {
   "cell_type": "code",
   "execution_count": 101,
   "id": "c726e812-ca60-434a-aac3-809afafd843a",
   "metadata": {},
   "outputs": [
    {
     "data": {
      "text/plain": [
       "Unnamed: 0         int64\n",
       "Model             object\n",
       "Colour            object\n",
       "Memory             int64\n",
       "RAM                int64\n",
       "Battery_           int64\n",
       "Rear Camera       object\n",
       "Front Camera      object\n",
       "AI Lens            int64\n",
       "Mobile Height    float64\n",
       "Processor_        object\n",
       "Prize              int64\n",
       "dtype: object"
      ]
     },
     "execution_count": 101,
     "metadata": {},
     "output_type": "execute_result"
    }
   ],
   "source": [
    "data.dtypes"
   ]
  },
  {
   "cell_type": "markdown",
   "id": "c5f144e8-6198-4e2d-94cb-db8fb9098978",
   "metadata": {},
   "source": [
    "- dtypes- Prints the datatype of each column along with column name.\r",
    "- \n",
    "Datatype of the whole dataset is object if datatype of any one of the column is objece."
   ]
  },
  {
   "cell_type": "code",
   "execution_count": 102,
   "id": "f82351b8-e986-4865-b3b1-3a1859d024bc",
   "metadata": {},
   "outputs": [
    {
     "name": "stdout",
     "output_type": "stream",
     "text": [
      "<class 'pandas.core.frame.DataFrame'>\n",
      "RangeIndex: 541 entries, 0 to 540\n",
      "Data columns (total 12 columns):\n",
      " #   Column         Non-Null Count  Dtype  \n",
      "---  ------         --------------  -----  \n",
      " 0   Unnamed: 0     541 non-null    int64  \n",
      " 1   Model          541 non-null    object \n",
      " 2   Colour         541 non-null    object \n",
      " 3   Memory         541 non-null    int64  \n",
      " 4   RAM            541 non-null    int64  \n",
      " 5   Battery_       541 non-null    int64  \n",
      " 6   Rear Camera    541 non-null    object \n",
      " 7   Front Camera   541 non-null    object \n",
      " 8   AI Lens        541 non-null    int64  \n",
      " 9   Mobile Height  541 non-null    float64\n",
      " 10  Processor_     541 non-null    object \n",
      " 11  Prize          541 non-null    int64  \n",
      "dtypes: float64(1), int64(6), object(5)\n",
      "memory usage: 50.8+ KB\n"
     ]
    }
   ],
   "source": [
    "data.info()"
   ]
  },
  {
   "cell_type": "markdown",
   "id": "e5460513-5ad8-47ce-af4e-b091556f4e46",
   "metadata": {},
   "source": [
    "- info- Prints the datatype and total non-null values of each column with column names.\r",
    "- \n",
    "Also prints the total number of columns in each datatypes-  . In al 12 columns,ne, 1 column is of float datatyp36, 7 columns are of integer datatypna45d 1 umncols  is of object datatype."
   ]
  },
  {
   "cell_type": "code",
   "execution_count": 103,
   "id": "1c3b73aa-157b-4039-ae2c-fbb2a5f3afed",
   "metadata": {},
   "outputs": [],
   "source": [
    "data= data.drop('Unnamed: 0', axis=1)\n",
    "data= data.drop('Model', axis=1)"
   ]
  },
  {
   "cell_type": "markdown",
   "id": "786e3bdb-b3e1-4ef6-8092-7d555c1c9495",
   "metadata": {},
   "source": [
    "- drop- drops a particular column or row from the dataset.\r",
    "- \n",
    "Column 'Unnamed: 0' is dropped from the dataset as it has no significance for the analysis\n",
    "- Column 'Model' is dropped as it has no significance in price prediction and hinderance in model development.."
   ]
  },
  {
   "cell_type": "code",
   "execution_count": 104,
   "id": "1d4c90b5-d691-4fd7-9da7-bc742e38eb46",
   "metadata": {},
   "outputs": [
    {
     "data": {
      "text/plain": [
       "(541, 10)"
      ]
     },
     "execution_count": 104,
     "metadata": {},
     "output_type": "execute_result"
    }
   ],
   "source": [
    "data.shape"
   ]
  },
  {
   "cell_type": "markdown",
   "id": "4196eae3-e81d-4d42-b974-ec4af2725f55",
   "metadata": {},
   "source": [
    "- Dataset has 10 columns in total now after dropping 2 columns."
   ]
  },
  {
   "cell_type": "code",
   "execution_count": 114,
   "id": "20aa6f1e-e668-40d9-a0f2-6f2f157ae624",
   "metadata": {},
   "outputs": [
    {
     "data": {
      "text/html": [
       "<div>\n",
       "<style scoped>\n",
       "    .dataframe tbody tr th:only-of-type {\n",
       "        vertical-align: middle;\n",
       "    }\n",
       "\n",
       "    .dataframe tbody tr th {\n",
       "        vertical-align: top;\n",
       "    }\n",
       "\n",
       "    .dataframe thead th {\n",
       "        text-align: right;\n",
       "    }\n",
       "</style>\n",
       "<table border=\"1\" class=\"dataframe\">\n",
       "  <thead>\n",
       "    <tr style=\"text-align: right;\">\n",
       "      <th></th>\n",
       "      <th>Colour</th>\n",
       "      <th>Memory</th>\n",
       "      <th>RAM</th>\n",
       "      <th>Battery_</th>\n",
       "      <th>Rear Camera</th>\n",
       "      <th>Front Camera</th>\n",
       "      <th>AI Lens</th>\n",
       "      <th>Mobile Height</th>\n",
       "      <th>Processor_</th>\n",
       "      <th>Price</th>\n",
       "    </tr>\n",
       "  </thead>\n",
       "  <tbody>\n",
       "    <tr>\n",
       "      <th>0</th>\n",
       "      <td>Night Black</td>\n",
       "      <td>64</td>\n",
       "      <td>4</td>\n",
       "      <td>6000</td>\n",
       "      <td>13MP</td>\n",
       "      <td>5MP</td>\n",
       "      <td>1</td>\n",
       "      <td>16.76</td>\n",
       "      <td>Unisoc Spreadtrum SC9863A1</td>\n",
       "      <td>7299</td>\n",
       "    </tr>\n",
       "    <tr>\n",
       "      <th>1</th>\n",
       "      <td>Azure Blue</td>\n",
       "      <td>64</td>\n",
       "      <td>4</td>\n",
       "      <td>6000</td>\n",
       "      <td>13MP</td>\n",
       "      <td>5MP</td>\n",
       "      <td>1</td>\n",
       "      <td>16.76</td>\n",
       "      <td>Unisoc Spreadtrum SC9863A1</td>\n",
       "      <td>7299</td>\n",
       "    </tr>\n",
       "    <tr>\n",
       "      <th>2</th>\n",
       "      <td>Mineral Gray</td>\n",
       "      <td>128</td>\n",
       "      <td>8</td>\n",
       "      <td>5000</td>\n",
       "      <td>50MP</td>\n",
       "      <td>16MP</td>\n",
       "      <td>0</td>\n",
       "      <td>16.64</td>\n",
       "      <td>Qualcomm Snapdragon 680</td>\n",
       "      <td>11999</td>\n",
       "    </tr>\n",
       "    <tr>\n",
       "      <th>3</th>\n",
       "      <td>Royal Blue</td>\n",
       "      <td>32</td>\n",
       "      <td>2</td>\n",
       "      <td>5000</td>\n",
       "      <td>8MP</td>\n",
       "      <td>5MP</td>\n",
       "      <td>0</td>\n",
       "      <td>16.56</td>\n",
       "      <td>Mediatek Helio A22</td>\n",
       "      <td>5649</td>\n",
       "    </tr>\n",
       "    <tr>\n",
       "      <th>4</th>\n",
       "      <td>Marigold</td>\n",
       "      <td>128</td>\n",
       "      <td>8</td>\n",
       "      <td>5000</td>\n",
       "      <td>50MP</td>\n",
       "      <td>5MP</td>\n",
       "      <td>1</td>\n",
       "      <td>16.76</td>\n",
       "      <td>G37</td>\n",
       "      <td>8999</td>\n",
       "    </tr>\n",
       "  </tbody>\n",
       "</table>\n",
       "</div>"
      ],
      "text/plain": [
       "         Colour  Memory  RAM  Battery_ Rear Camera Front Camera  AI Lens  \\\n",
       "0   Night Black      64    4      6000        13MP          5MP        1   \n",
       "1    Azure Blue      64    4      6000        13MP          5MP        1   \n",
       "2  Mineral Gray     128    8      5000        50MP         16MP        0   \n",
       "3    Royal Blue      32    2      5000         8MP          5MP        0   \n",
       "4      Marigold     128    8      5000        50MP          5MP        1   \n",
       "\n",
       "   Mobile Height                  Processor_  Price  \n",
       "0          16.76  Unisoc Spreadtrum SC9863A1   7299  \n",
       "1          16.76  Unisoc Spreadtrum SC9863A1   7299  \n",
       "2          16.64     Qualcomm Snapdragon 680  11999  \n",
       "3          16.56          Mediatek Helio A22   5649  \n",
       "4          16.76                         G37   8999  "
      ]
     },
     "execution_count": 114,
     "metadata": {},
     "output_type": "execute_result"
    }
   ],
   "source": [
    "data.head()"
   ]
  },
  {
   "cell_type": "markdown",
   "id": "d68ab2e9-b83e-44b2-8aa6-01d9583e2bf8",
   "metadata": {},
   "source": [
    "- Top datapoint after dropping columns."
   ]
  },
  {
   "cell_type": "code",
   "execution_count": 105,
   "id": "c1b2554e-8324-4a0a-be87-9a65c3dd2252",
   "metadata": {},
   "outputs": [
    {
     "data": {
      "text/plain": [
       "Colour           0\n",
       "Memory           0\n",
       "RAM              0\n",
       "Battery_         0\n",
       "Rear Camera      0\n",
       "Front Camera     0\n",
       "AI Lens          0\n",
       "Mobile Height    0\n",
       "Processor_       0\n",
       "Prize            0\n",
       "dtype: int64"
      ]
     },
     "execution_count": 105,
     "metadata": {},
     "output_type": "execute_result"
    }
   ],
   "source": [
    "data.isnull().sum()"
   ]
  },
  {
   "cell_type": "markdown",
   "id": "7c812869-2e81-4cfb-8df4-57f87d086e1f",
   "metadata": {},
   "source": [
    "- isnull().sum()- Prints the total number of null values in each columns along with the name of the columns.\n",
    "- There are no null values in any columns."
   ]
  },
  {
   "cell_type": "code",
   "execution_count": 106,
   "id": "c0090f69-1aaf-44be-8323-e93dcf513253",
   "metadata": {},
   "outputs": [
    {
     "data": {
      "text/plain": [
       "13"
      ]
     },
     "execution_count": 106,
     "metadata": {},
     "output_type": "execute_result"
    }
   ],
   "source": [
    "data.duplicated().sum()"
   ]
  },
  {
   "cell_type": "markdown",
   "id": "5a24c199-9e30-47fb-b497-a26eecbcc8f8",
   "metadata": {},
   "source": [
    "- duplicated().sum()- Prints the total number of rows with same datapoints in all columns.\r",
    "- \n",
    "Thereare 13o duplicate rows in the dataset."
   ]
  },
  {
   "cell_type": "code",
   "execution_count": 107,
   "id": "1b983409-a427-472f-8c76-4a76d252d70b",
   "metadata": {},
   "outputs": [],
   "source": [
    "data = data.drop_duplicates()"
   ]
  },
  {
   "cell_type": "markdown",
   "id": "e6083740-0800-4ef1-9c5f-27ac905632ac",
   "metadata": {},
   "source": [
    "- Dropped the duplicate rows from the dataset."
   ]
  },
  {
   "cell_type": "code",
   "execution_count": 108,
   "id": "77658063-8ef4-43fe-92ba-628e3c086ed0",
   "metadata": {},
   "outputs": [
    {
     "data": {
      "text/plain": [
       "(528, 10)"
      ]
     },
     "execution_count": 108,
     "metadata": {},
     "output_type": "execute_result"
    }
   ],
   "source": [
    "data.shape"
   ]
  },
  {
   "cell_type": "markdown",
   "id": "9d6b098b-519e-44e5-9316-b3a2266ceada",
   "metadata": {},
   "source": [
    "- Dataset has 528 rows and 10 columns after dropping the duplicates."
   ]
  },
  {
   "cell_type": "code",
   "execution_count": 109,
   "id": "efa098a0-7349-486b-ac44-2dc64071b8f6",
   "metadata": {},
   "outputs": [
    {
     "data": {
      "text/plain": [
       "0"
      ]
     },
     "execution_count": 109,
     "metadata": {},
     "output_type": "execute_result"
    }
   ],
   "source": [
    "data.duplicated().sum()"
   ]
  },
  {
   "cell_type": "markdown",
   "id": "8cf45504-1dc4-4d1d-840a-532d39249857",
   "metadata": {},
   "source": [
    "- There are no duplicate rows now in the dataset."
   ]
  },
  {
   "cell_type": "code",
   "execution_count": 110,
   "id": "6ec512cb-d419-4d24-9237-f20b12044e39",
   "metadata": {},
   "outputs": [
    {
     "data": {
      "text/html": [
       "<div>\n",
       "<style scoped>\n",
       "    .dataframe tbody tr th:only-of-type {\n",
       "        vertical-align: middle;\n",
       "    }\n",
       "\n",
       "    .dataframe tbody tr th {\n",
       "        vertical-align: top;\n",
       "    }\n",
       "\n",
       "    .dataframe thead th {\n",
       "        text-align: right;\n",
       "    }\n",
       "</style>\n",
       "<table border=\"1\" class=\"dataframe\">\n",
       "  <thead>\n",
       "    <tr style=\"text-align: right;\">\n",
       "      <th></th>\n",
       "      <th>Memory</th>\n",
       "      <th>RAM</th>\n",
       "      <th>Battery_</th>\n",
       "      <th>AI Lens</th>\n",
       "      <th>Mobile Height</th>\n",
       "      <th>Prize</th>\n",
       "    </tr>\n",
       "  </thead>\n",
       "  <tbody>\n",
       "    <tr>\n",
       "      <th>count</th>\n",
       "      <td>528.000000</td>\n",
       "      <td>528.000000</td>\n",
       "      <td>528.000000</td>\n",
       "      <td>528.000000</td>\n",
       "      <td>528.000000</td>\n",
       "      <td>528.000000</td>\n",
       "    </tr>\n",
       "    <tr>\n",
       "      <th>mean</th>\n",
       "      <td>111.181818</td>\n",
       "      <td>5.409091</td>\n",
       "      <td>4873.160985</td>\n",
       "      <td>0.064394</td>\n",
       "      <td>16.449678</td>\n",
       "      <td>16341.609848</td>\n",
       "    </tr>\n",
       "    <tr>\n",
       "      <th>std</th>\n",
       "      <td>60.942604</td>\n",
       "      <td>1.994126</td>\n",
       "      <td>768.000684</td>\n",
       "      <td>0.245686</td>\n",
       "      <td>2.501331</td>\n",
       "      <td>10867.396664</td>\n",
       "    </tr>\n",
       "    <tr>\n",
       "      <th>min</th>\n",
       "      <td>16.000000</td>\n",
       "      <td>2.000000</td>\n",
       "      <td>800.000000</td>\n",
       "      <td>0.000000</td>\n",
       "      <td>4.500000</td>\n",
       "      <td>920.000000</td>\n",
       "    </tr>\n",
       "    <tr>\n",
       "      <th>25%</th>\n",
       "      <td>64.000000</td>\n",
       "      <td>4.000000</td>\n",
       "      <td>5000.000000</td>\n",
       "      <td>0.000000</td>\n",
       "      <td>16.510000</td>\n",
       "      <td>9334.250000</td>\n",
       "    </tr>\n",
       "    <tr>\n",
       "      <th>50%</th>\n",
       "      <td>128.000000</td>\n",
       "      <td>6.000000</td>\n",
       "      <td>5000.000000</td>\n",
       "      <td>0.000000</td>\n",
       "      <td>16.710000</td>\n",
       "      <td>13999.000000</td>\n",
       "    </tr>\n",
       "    <tr>\n",
       "      <th>75%</th>\n",
       "      <td>128.000000</td>\n",
       "      <td>8.000000</td>\n",
       "      <td>5000.000000</td>\n",
       "      <td>0.000000</td>\n",
       "      <td>16.940000</td>\n",
       "      <td>19422.500000</td>\n",
       "    </tr>\n",
       "    <tr>\n",
       "      <th>max</th>\n",
       "      <td>256.000000</td>\n",
       "      <td>8.000000</td>\n",
       "      <td>7000.000000</td>\n",
       "      <td>1.000000</td>\n",
       "      <td>41.940000</td>\n",
       "      <td>80999.000000</td>\n",
       "    </tr>\n",
       "  </tbody>\n",
       "</table>\n",
       "</div>"
      ],
      "text/plain": [
       "           Memory         RAM     Battery_     AI Lens  Mobile Height  \\\n",
       "count  528.000000  528.000000   528.000000  528.000000     528.000000   \n",
       "mean   111.181818    5.409091  4873.160985    0.064394      16.449678   \n",
       "std     60.942604    1.994126   768.000684    0.245686       2.501331   \n",
       "min     16.000000    2.000000   800.000000    0.000000       4.500000   \n",
       "25%     64.000000    4.000000  5000.000000    0.000000      16.510000   \n",
       "50%    128.000000    6.000000  5000.000000    0.000000      16.710000   \n",
       "75%    128.000000    8.000000  5000.000000    0.000000      16.940000   \n",
       "max    256.000000    8.000000  7000.000000    1.000000      41.940000   \n",
       "\n",
       "              Prize  \n",
       "count    528.000000  \n",
       "mean   16341.609848  \n",
       "std    10867.396664  \n",
       "min      920.000000  \n",
       "25%     9334.250000  \n",
       "50%    13999.000000  \n",
       "75%    19422.500000  \n",
       "max    80999.000000  "
      ]
     },
     "execution_count": 110,
     "metadata": {},
     "output_type": "execute_result"
    }
   ],
   "source": [
    "data.describe()"
   ]
  },
  {
   "cell_type": "markdown",
   "id": "65a450cc-7eb9-42b2-a686-423be6bd4541",
   "metadata": {},
   "source": [
    "- describe- Prints the central tendency and total count of continuous columns.\n",
    "- Memory- Average memory of th mobile phones is 111GB with minimum memory 16GB and maximum memory 256GB.\n",
    "- RAM- Average RAM of the phones is 5.4GB with minimum RAM 2GB and Maximum RAM 8GB.\n",
    "- Battery- Average battery capacity is 4873 mAh with minimum battery capacity 800 mAh and maximum battery capacity 7000 mAh.\n",
    "- Mobile Height- Average height of the mobile phones is 16.44mm with minimum height 4.5mm and maximum height 41.9mm.\n",
    "- Price- Average price of mobile phones is Rs 16341.6 with minimum price Rs 920 and maximum price Rs 80999."
   ]
  },
  {
   "cell_type": "code",
   "execution_count": 111,
   "id": "9ee2e060-ce44-4eed-a57c-3264bd865d8f",
   "metadata": {},
   "outputs": [],
   "source": [
    "data= data.rename(columns={'Prize' : 'Price'})"
   ]
  },
  {
   "cell_type": "markdown",
   "id": "283dbd83-17bb-468f-a011-255ef02f0d12",
   "metadata": {},
   "source": [
    "- rename- Renames the name of the columns.\n",
    "- Column name of 'Prize is changed to 'Price'."
   ]
  },
  {
   "cell_type": "code",
   "execution_count": 112,
   "id": "f05035bc-06a8-4ca6-8c5f-c19a01fdcacb",
   "metadata": {},
   "outputs": [
    {
     "data": {
      "text/plain": [
       "Index(['Colour', 'Memory', 'RAM', 'Battery_', 'Rear Camera', 'Front Camera',\n",
       "       'AI Lens', 'Mobile Height', 'Processor_', 'Price'],\n",
       "      dtype='object')"
      ]
     },
     "execution_count": 112,
     "metadata": {},
     "output_type": "execute_result"
    }
   ],
   "source": [
    "data.columns"
   ]
  },
  {
   "cell_type": "markdown",
   "id": "103f67b3-18f3-4c31-9c4c-aa3f595efa90",
   "metadata": {},
   "source": [
    "- Name of all the columns after renaming."
   ]
  },
  {
   "cell_type": "code",
   "execution_count": 113,
   "id": "8771468d-c594-4dba-855d-246c042ec758",
   "metadata": {},
   "outputs": [
    {
     "data": {
      "text/plain": [
       "Colour           275\n",
       "Memory             5\n",
       "RAM                5\n",
       "Battery_          37\n",
       "Rear Camera       14\n",
       "Front Camera      13\n",
       "AI Lens            2\n",
       "Mobile Height     38\n",
       "Processor_       123\n",
       "Price            158\n",
       "dtype: int64"
      ]
     },
     "execution_count": 113,
     "metadata": {},
     "output_type": "execute_result"
    }
   ],
   "source": [
    "data.nunique()"
   ]
  },
  {
   "cell_type": "markdown",
   "id": "12242752-f72e-43cb-be27-551bb972b6b2",
   "metadata": {},
   "source": [
    "- nunique- Prints the total number of unique values in all columns with respective column names."
   ]
  },
  {
   "cell_type": "code",
   "execution_count": 115,
   "id": "0a4b263e-de6c-484f-b752-08ba57ed85b7",
   "metadata": {},
   "outputs": [],
   "source": [
    "data_encoded = pd.get_dummies(data, columns=['Colour', 'Processor_'], drop_first=True)"
   ]
  },
  {
   "cell_type": "markdown",
   "id": "ae441c6b-66a5-4fe6-b6b4-ddcd39d6314f",
   "metadata": {},
   "source": [
    "- get_dummies- Converts categorical columns into binary. Every data point is created with a new column with value of itself as True and all others as False.\n",
    "- One Hot Encoding- Colour and Processor are converted into binary and dummy columns are created."
   ]
  },
  {
   "cell_type": "code",
   "execution_count": 116,
   "id": "35afd0c2-067d-4773-a327-a35cf50c0f2e",
   "metadata": {},
   "outputs": [
    {
     "data": {
      "text/html": [
       "<div>\n",
       "<style scoped>\n",
       "    .dataframe tbody tr th:only-of-type {\n",
       "        vertical-align: middle;\n",
       "    }\n",
       "\n",
       "    .dataframe tbody tr th {\n",
       "        vertical-align: top;\n",
       "    }\n",
       "\n",
       "    .dataframe thead th {\n",
       "        text-align: right;\n",
       "    }\n",
       "</style>\n",
       "<table border=\"1\" class=\"dataframe\">\n",
       "  <thead>\n",
       "    <tr style=\"text-align: right;\">\n",
       "      <th></th>\n",
       "      <th>Memory</th>\n",
       "      <th>RAM</th>\n",
       "      <th>Battery_</th>\n",
       "      <th>Rear Camera</th>\n",
       "      <th>Front Camera</th>\n",
       "      <th>AI Lens</th>\n",
       "      <th>Mobile Height</th>\n",
       "      <th>Price</th>\n",
       "      <th>Colour_Agate Black</th>\n",
       "      <th>Colour_Alpine White</th>\n",
       "      <th>...</th>\n",
       "      <th>Processor__Unisoc Spreadtrum SC9863A1</th>\n",
       "      <th>Processor__Unisoc T606</th>\n",
       "      <th>Processor__Unisoc T610</th>\n",
       "      <th>Processor__Unisoc T612</th>\n",
       "      <th>Processor__Unisoc T612 processor</th>\n",
       "      <th>Processor__Unisoc T616</th>\n",
       "      <th>Processor__Unisoc Tiger T612 (12 nm)</th>\n",
       "      <th>Processor__Unisoc Tiger T616</th>\n",
       "      <th>Processor__ios</th>\n",
       "      <th>Processor__snapdragon 888</th>\n",
       "    </tr>\n",
       "  </thead>\n",
       "  <tbody>\n",
       "    <tr>\n",
       "      <th>0</th>\n",
       "      <td>64</td>\n",
       "      <td>4</td>\n",
       "      <td>6000</td>\n",
       "      <td>13MP</td>\n",
       "      <td>5MP</td>\n",
       "      <td>1</td>\n",
       "      <td>16.76</td>\n",
       "      <td>7299</td>\n",
       "      <td>False</td>\n",
       "      <td>False</td>\n",
       "      <td>...</td>\n",
       "      <td>True</td>\n",
       "      <td>False</td>\n",
       "      <td>False</td>\n",
       "      <td>False</td>\n",
       "      <td>False</td>\n",
       "      <td>False</td>\n",
       "      <td>False</td>\n",
       "      <td>False</td>\n",
       "      <td>False</td>\n",
       "      <td>False</td>\n",
       "    </tr>\n",
       "    <tr>\n",
       "      <th>1</th>\n",
       "      <td>64</td>\n",
       "      <td>4</td>\n",
       "      <td>6000</td>\n",
       "      <td>13MP</td>\n",
       "      <td>5MP</td>\n",
       "      <td>1</td>\n",
       "      <td>16.76</td>\n",
       "      <td>7299</td>\n",
       "      <td>False</td>\n",
       "      <td>False</td>\n",
       "      <td>...</td>\n",
       "      <td>True</td>\n",
       "      <td>False</td>\n",
       "      <td>False</td>\n",
       "      <td>False</td>\n",
       "      <td>False</td>\n",
       "      <td>False</td>\n",
       "      <td>False</td>\n",
       "      <td>False</td>\n",
       "      <td>False</td>\n",
       "      <td>False</td>\n",
       "    </tr>\n",
       "    <tr>\n",
       "      <th>2</th>\n",
       "      <td>128</td>\n",
       "      <td>8</td>\n",
       "      <td>5000</td>\n",
       "      <td>50MP</td>\n",
       "      <td>16MP</td>\n",
       "      <td>0</td>\n",
       "      <td>16.64</td>\n",
       "      <td>11999</td>\n",
       "      <td>False</td>\n",
       "      <td>False</td>\n",
       "      <td>...</td>\n",
       "      <td>False</td>\n",
       "      <td>False</td>\n",
       "      <td>False</td>\n",
       "      <td>False</td>\n",
       "      <td>False</td>\n",
       "      <td>False</td>\n",
       "      <td>False</td>\n",
       "      <td>False</td>\n",
       "      <td>False</td>\n",
       "      <td>False</td>\n",
       "    </tr>\n",
       "    <tr>\n",
       "      <th>3</th>\n",
       "      <td>32</td>\n",
       "      <td>2</td>\n",
       "      <td>5000</td>\n",
       "      <td>8MP</td>\n",
       "      <td>5MP</td>\n",
       "      <td>0</td>\n",
       "      <td>16.56</td>\n",
       "      <td>5649</td>\n",
       "      <td>False</td>\n",
       "      <td>False</td>\n",
       "      <td>...</td>\n",
       "      <td>False</td>\n",
       "      <td>False</td>\n",
       "      <td>False</td>\n",
       "      <td>False</td>\n",
       "      <td>False</td>\n",
       "      <td>False</td>\n",
       "      <td>False</td>\n",
       "      <td>False</td>\n",
       "      <td>False</td>\n",
       "      <td>False</td>\n",
       "    </tr>\n",
       "    <tr>\n",
       "      <th>4</th>\n",
       "      <td>128</td>\n",
       "      <td>8</td>\n",
       "      <td>5000</td>\n",
       "      <td>50MP</td>\n",
       "      <td>5MP</td>\n",
       "      <td>1</td>\n",
       "      <td>16.76</td>\n",
       "      <td>8999</td>\n",
       "      <td>False</td>\n",
       "      <td>False</td>\n",
       "      <td>...</td>\n",
       "      <td>False</td>\n",
       "      <td>False</td>\n",
       "      <td>False</td>\n",
       "      <td>False</td>\n",
       "      <td>False</td>\n",
       "      <td>False</td>\n",
       "      <td>False</td>\n",
       "      <td>False</td>\n",
       "      <td>False</td>\n",
       "      <td>False</td>\n",
       "    </tr>\n",
       "    <tr>\n",
       "      <th>...</th>\n",
       "      <td>...</td>\n",
       "      <td>...</td>\n",
       "      <td>...</td>\n",
       "      <td>...</td>\n",
       "      <td>...</td>\n",
       "      <td>...</td>\n",
       "      <td>...</td>\n",
       "      <td>...</td>\n",
       "      <td>...</td>\n",
       "      <td>...</td>\n",
       "      <td>...</td>\n",
       "      <td>...</td>\n",
       "      <td>...</td>\n",
       "      <td>...</td>\n",
       "      <td>...</td>\n",
       "      <td>...</td>\n",
       "      <td>...</td>\n",
       "      <td>...</td>\n",
       "      <td>...</td>\n",
       "      <td>...</td>\n",
       "      <td>...</td>\n",
       "    </tr>\n",
       "    <tr>\n",
       "      <th>536</th>\n",
       "      <td>256</td>\n",
       "      <td>8</td>\n",
       "      <td>3900</td>\n",
       "      <td>50MP</td>\n",
       "      <td>12MP</td>\n",
       "      <td>0</td>\n",
       "      <td>15.49</td>\n",
       "      <td>79999</td>\n",
       "      <td>False</td>\n",
       "      <td>False</td>\n",
       "      <td>...</td>\n",
       "      <td>False</td>\n",
       "      <td>False</td>\n",
       "      <td>False</td>\n",
       "      <td>False</td>\n",
       "      <td>False</td>\n",
       "      <td>False</td>\n",
       "      <td>False</td>\n",
       "      <td>False</td>\n",
       "      <td>False</td>\n",
       "      <td>False</td>\n",
       "    </tr>\n",
       "    <tr>\n",
       "      <th>537</th>\n",
       "      <td>32</td>\n",
       "      <td>2</td>\n",
       "      <td>3100</td>\n",
       "      <td>5MP</td>\n",
       "      <td>2MP</td>\n",
       "      <td>0</td>\n",
       "      <td>12.70</td>\n",
       "      <td>5998</td>\n",
       "      <td>False</td>\n",
       "      <td>False</td>\n",
       "      <td>...</td>\n",
       "      <td>False</td>\n",
       "      <td>False</td>\n",
       "      <td>False</td>\n",
       "      <td>False</td>\n",
       "      <td>False</td>\n",
       "      <td>False</td>\n",
       "      <td>False</td>\n",
       "      <td>False</td>\n",
       "      <td>False</td>\n",
       "      <td>False</td>\n",
       "    </tr>\n",
       "    <tr>\n",
       "      <th>538</th>\n",
       "      <td>64</td>\n",
       "      <td>4</td>\n",
       "      <td>5000</td>\n",
       "      <td>50MP</td>\n",
       "      <td>8MP</td>\n",
       "      <td>0</td>\n",
       "      <td>16.76</td>\n",
       "      <td>9990</td>\n",
       "      <td>False</td>\n",
       "      <td>False</td>\n",
       "      <td>...</td>\n",
       "      <td>False</td>\n",
       "      <td>False</td>\n",
       "      <td>False</td>\n",
       "      <td>False</td>\n",
       "      <td>False</td>\n",
       "      <td>False</td>\n",
       "      <td>False</td>\n",
       "      <td>False</td>\n",
       "      <td>False</td>\n",
       "      <td>False</td>\n",
       "    </tr>\n",
       "    <tr>\n",
       "      <th>539</th>\n",
       "      <td>128</td>\n",
       "      <td>8</td>\n",
       "      <td>5000</td>\n",
       "      <td>50MP</td>\n",
       "      <td>32MP</td>\n",
       "      <td>0</td>\n",
       "      <td>16.26</td>\n",
       "      <td>38999</td>\n",
       "      <td>False</td>\n",
       "      <td>False</td>\n",
       "      <td>...</td>\n",
       "      <td>False</td>\n",
       "      <td>False</td>\n",
       "      <td>False</td>\n",
       "      <td>False</td>\n",
       "      <td>False</td>\n",
       "      <td>False</td>\n",
       "      <td>False</td>\n",
       "      <td>False</td>\n",
       "      <td>False</td>\n",
       "      <td>False</td>\n",
       "    </tr>\n",
       "    <tr>\n",
       "      <th>540</th>\n",
       "      <td>128</td>\n",
       "      <td>4</td>\n",
       "      <td>5000</td>\n",
       "      <td>50MP</td>\n",
       "      <td>8MP</td>\n",
       "      <td>0</td>\n",
       "      <td>16.66</td>\n",
       "      <td>15999</td>\n",
       "      <td>False</td>\n",
       "      <td>False</td>\n",
       "      <td>...</td>\n",
       "      <td>False</td>\n",
       "      <td>False</td>\n",
       "      <td>False</td>\n",
       "      <td>False</td>\n",
       "      <td>False</td>\n",
       "      <td>False</td>\n",
       "      <td>False</td>\n",
       "      <td>False</td>\n",
       "      <td>False</td>\n",
       "      <td>False</td>\n",
       "    </tr>\n",
       "  </tbody>\n",
       "</table>\n",
       "<p>528 rows × 404 columns</p>\n",
       "</div>"
      ],
      "text/plain": [
       "     Memory  RAM  Battery_ Rear Camera Front Camera  AI Lens  Mobile Height  \\\n",
       "0        64    4      6000        13MP          5MP        1          16.76   \n",
       "1        64    4      6000        13MP          5MP        1          16.76   \n",
       "2       128    8      5000        50MP         16MP        0          16.64   \n",
       "3        32    2      5000         8MP          5MP        0          16.56   \n",
       "4       128    8      5000        50MP          5MP        1          16.76   \n",
       "..      ...  ...       ...         ...          ...      ...            ...   \n",
       "536     256    8      3900        50MP         12MP        0          15.49   \n",
       "537      32    2      3100         5MP          2MP        0          12.70   \n",
       "538      64    4      5000        50MP          8MP        0          16.76   \n",
       "539     128    8      5000        50MP         32MP        0          16.26   \n",
       "540     128    4      5000        50MP          8MP        0          16.66   \n",
       "\n",
       "     Price  Colour_Agate Black  Colour_Alpine White  ...  \\\n",
       "0     7299               False                False  ...   \n",
       "1     7299               False                False  ...   \n",
       "2    11999               False                False  ...   \n",
       "3     5649               False                False  ...   \n",
       "4     8999               False                False  ...   \n",
       "..     ...                 ...                  ...  ...   \n",
       "536  79999               False                False  ...   \n",
       "537   5998               False                False  ...   \n",
       "538   9990               False                False  ...   \n",
       "539  38999               False                False  ...   \n",
       "540  15999               False                False  ...   \n",
       "\n",
       "     Processor__Unisoc Spreadtrum SC9863A1  Processor__Unisoc T606  \\\n",
       "0                                     True                   False   \n",
       "1                                     True                   False   \n",
       "2                                    False                   False   \n",
       "3                                    False                   False   \n",
       "4                                    False                   False   \n",
       "..                                     ...                     ...   \n",
       "536                                  False                   False   \n",
       "537                                  False                   False   \n",
       "538                                  False                   False   \n",
       "539                                  False                   False   \n",
       "540                                  False                   False   \n",
       "\n",
       "     Processor__Unisoc T610  Processor__Unisoc T612  \\\n",
       "0                     False                   False   \n",
       "1                     False                   False   \n",
       "2                     False                   False   \n",
       "3                     False                   False   \n",
       "4                     False                   False   \n",
       "..                      ...                     ...   \n",
       "536                   False                   False   \n",
       "537                   False                   False   \n",
       "538                   False                   False   \n",
       "539                   False                   False   \n",
       "540                   False                   False   \n",
       "\n",
       "     Processor__Unisoc T612 processor  Processor__Unisoc T616  \\\n",
       "0                               False                   False   \n",
       "1                               False                   False   \n",
       "2                               False                   False   \n",
       "3                               False                   False   \n",
       "4                               False                   False   \n",
       "..                                ...                     ...   \n",
       "536                             False                   False   \n",
       "537                             False                   False   \n",
       "538                             False                   False   \n",
       "539                             False                   False   \n",
       "540                             False                   False   \n",
       "\n",
       "     Processor__Unisoc Tiger T612 (12 nm)  Processor__Unisoc Tiger T616  \\\n",
       "0                                   False                         False   \n",
       "1                                   False                         False   \n",
       "2                                   False                         False   \n",
       "3                                   False                         False   \n",
       "4                                   False                         False   \n",
       "..                                    ...                           ...   \n",
       "536                                 False                         False   \n",
       "537                                 False                         False   \n",
       "538                                 False                         False   \n",
       "539                                 False                         False   \n",
       "540                                 False                         False   \n",
       "\n",
       "     Processor__ios  Processor__snapdragon 888  \n",
       "0             False                      False  \n",
       "1             False                      False  \n",
       "2             False                      False  \n",
       "3             False                      False  \n",
       "4             False                      False  \n",
       "..              ...                        ...  \n",
       "536           False                      False  \n",
       "537           False                      False  \n",
       "538           False                      False  \n",
       "539           False                      False  \n",
       "540           False                      False  \n",
       "\n",
       "[528 rows x 404 columns]"
      ]
     },
     "execution_count": 116,
     "metadata": {},
     "output_type": "execute_result"
    }
   ],
   "source": [
    "data_encoded"
   ]
  },
  {
   "cell_type": "markdown",
   "id": "baaed6cf-9590-4316-8847-dee6babe2791",
   "metadata": {},
   "source": [
    "- Dataset has 528 rows as before but columns have increased to 404 because of dummy creation."
   ]
  },
  {
   "cell_type": "code",
   "execution_count": 117,
   "id": "8dc7817f-c927-4c6a-8b9a-519a4eb488a1",
   "metadata": {},
   "outputs": [
    {
     "data": {
      "image/png": "[encoded data removed]",
      "text/plain": [
       "<Figure size 800x400 with 1 Axes>"
      ]
     },
     "metadata": {},
     "output_type": "display_data"
    },
    {
     "data": {
      "image/png": "[encoded data removed]",
      "text/plain": [
       "<Figure size 800x400 with 1 Axes>"
      ]
     },
     "metadata": {},
     "output_type": "display_data"
    },
    {
     "data": {
      "image/png": "[encoded data removed]",
      "text/plain": [
       "<Figure size 800x400 with 1 Axes>"
      ]
     },
     "metadata": {},
     "output_type": "display_data"
    },
    {
     "data": {
      "image/png": "[encoded data removed]",
      "text/plain": [
       "<Figure size 800x400 with 1 Axes>"
      ]
     },
     "metadata": {},
     "output_type": "display_data"
    },
    {
     "data": {
      "image/png": "[encoded data removed]",
      "text/plain": [
       "<Figure size 800x400 with 1 Axes>"
      ]
     },
     "metadata": {},
     "output_type": "display_data"
    },
    {
     "data": {
      "image/png": "[encoded data removed]",
      "text/plain": [
       "<Figure size 800x400 with 1 Axes>"
      ]
     },
     "metadata": {},
     "output_type": "display_data"
    }
   ],
   "source": [
    "numerical_cols = data.select_dtypes(include=['float64', 'int64']).columns\n",
    "\n",
    "for col in numerical_cols:\n",
    "    plt.figure(figsize=(8, 4))\n",
    "    sns.boxplot(y=data[col])\n",
    "    plt.title(f'Outlier Detection in \"{col}\"')\n",
    "    plt.xlabel(col)\n",
    "    plt.tight_layout()\n",
    "    plt.show()"
   ]
  },
  {
   "cell_type": "markdown",
   "id": "f7005dbf-60f1-4f87-bb4c-c87e7472ef30",
   "metadata": {},
   "source": [
    "- Outlier- Values or Datapoints in columns which are lot higher or lot lower values than usual values of that particular column.\n",
    "- Boxplot shows outliers in all numerical columns."
   ]
  },
  {
   "cell_type": "code",
   "execution_count": 118,
   "id": "f71680ad-ef6b-4cf4-8e02-d086d733e34b",
   "metadata": {},
   "outputs": [
    {
     "name": "stdout",
     "output_type": "stream",
     "text": [
      "Memory: 55 outliers\n",
      "RAM: 0 outliers\n",
      "Battery_: 148 outliers\n",
      "AI Lens: 34 outliers\n",
      "Mobile Height: 32 outliers\n",
      "Price: 25 outliers\n"
     ]
    }
   ],
   "source": [
    "outlier_counts = {}\n",
    "\n",
    "for col in numerical_cols:\n",
    "    Q1 = data[col].quantile(0.25)\n",
    "    Q3 = data[col].quantile(0.75)\n",
    "    IQR = Q3 - Q1\n",
    "    lower_bound = Q1 - 1.5 * IQR\n",
    "    upper_bound = Q3 + 1.5 * IQR\n",
    "\n",
    "    outliers = data[(data[col] < lower_bound) | (data[col] > upper_bound)]\n",
    "    outlier_counts[col] = outliers.shape[0]\n",
    "\n",
    "for col, count in outlier_counts.items():\n",
    "    print(f\"{col}: {count} outliers\")"
   ]
  },
  {
   "cell_type": "markdown",
   "id": "b9107245-ebbd-4693-aebe-acd44924613b",
   "metadata": {},
   "source": [
    "- Total number of outliers are printed with name of the respective columns.\n",
    "- Other than RAM columns, every column has outliers."
   ]
  },
  {
   "cell_type": "code",
   "execution_count": 119,
   "id": "0583b4ca-d996-4531-b5b7-38b11c5703c5",
   "metadata": {},
   "outputs": [],
   "source": [
    "outlier_columns = ['Memory', 'Battery_', 'AI Lens', 'Mobile Height', 'Price']\n",
    "\n",
    "for col in outlier_columns:\n",
    "    Q1 = data_encoded[col].quantile(0.25)\n",
    "    Q3 = data_encoded[col].quantile(0.75)\n",
    "    IQR = Q3 - Q1\n",
    "    lower_bound = Q1 - 1.5 * IQR\n",
    "    upper_bound = Q3 + 1.5 * IQR\n",
    "\n",
    "data_encoded[col] = data_encoded[col].clip(lower=lower_bound, upper=upper_bound)"
   ]
  },
  {
   "cell_type": "markdown",
   "id": "04018f30-91ca-49fa-993c-ed6019b73e71",
   "metadata": {},
   "source": [
    "-Capping- Outliers in all the numerical columns are replaced with values lower than lower bound with lower bound value and values higher than upper bound value with upper bound value."
   ]
  },
  {
   "cell_type": "code",
   "execution_count": 120,
   "id": "814812ae-52f3-45d9-9b97-32ef450780ce",
   "metadata": {},
   "outputs": [
    {
     "name": "stdout",
     "output_type": "stream",
     "text": [
      "Price: 25 outliers\n"
     ]
    }
   ],
   "source": [
    "print(f\"{col}: {count} outliers\")"
   ]
  },
  {
   "cell_type": "code",
   "execution_count": 121,
   "id": "37eb3ac5-3292-4405-a40f-3a6fe0da902b",
   "metadata": {},
   "outputs": [],
   "source": [
    "price_column = 'Price'\n",
    "\n",
    "if data_encoded[price_column].dtype == 'object':\n",
    "    data_encoded[price_column] = data_encoded[price_column].replace('[₹,]', '', regex=True).astype(float)\n",
    "\n",
    "Q1 = data_encoded[price_column].quantile(0.25)\n",
    "Q3 = data_encoded[price_column].quantile(0.75)\n",
    "IQR = Q3 - Q1\n",
    "lower_bound = Q1 - 1.5 * IQR\n",
    "upper_bound = Q3 + 1.5 * IQR\n",
    "\n",
    "data_encoded[price_column] = data_encoded[price_column].clip(lower=lower_bound, upper=upper_bound)"
   ]
  },
  {
   "cell_type": "code",
   "execution_count": 122,
   "id": "b8eb0082-5f0b-49e6-9e03-5ed023bea001",
   "metadata": {},
   "outputs": [
    {
     "name": "stdout",
     "output_type": "stream",
     "text": [
      "Remaining outliers in 'Price': 0\n"
     ]
    }
   ],
   "source": [
    "outliers_remaining = data_encoded[(data_encoded['Price'] < lower_bound) | (data_encoded['Price'] > upper_bound)]\n",
    "print(f\"Remaining outliers in 'Price': {outliers_remaining.shape[0]}\")"
   ]
  },
  {
   "cell_type": "markdown",
   "id": "df9a9fdc-0829-4632-bb40-d5a9d91aef9a",
   "metadata": {},
   "source": [
    "- All the outliers are treated with Capping method."
   ]
  },
  {
   "cell_type": "code",
   "execution_count": 123,
   "id": "2292286e-0b73-4d67-b288-597776ec9cee",
   "metadata": {},
   "outputs": [
    {
     "data": {
      "text/html": [
       "<div>\n",
       "<style scoped>\n",
       "    .dataframe tbody tr th:only-of-type {\n",
       "        vertical-align: middle;\n",
       "    }\n",
       "\n",
       "    .dataframe tbody tr th {\n",
       "        vertical-align: top;\n",
       "    }\n",
       "\n",
       "    .dataframe thead th {\n",
       "        text-align: right;\n",
       "    }\n",
       "</style>\n",
       "<table border=\"1\" class=\"dataframe\">\n",
       "  <thead>\n",
       "    <tr style=\"text-align: right;\">\n",
       "      <th></th>\n",
       "      <th>Memory</th>\n",
       "      <th>RAM</th>\n",
       "      <th>Battery_</th>\n",
       "      <th>Rear Camera</th>\n",
       "      <th>Front Camera</th>\n",
       "      <th>AI Lens</th>\n",
       "      <th>Mobile Height</th>\n",
       "      <th>Price</th>\n",
       "      <th>Colour_Agate Black</th>\n",
       "      <th>Colour_Alpine White</th>\n",
       "      <th>...</th>\n",
       "      <th>Processor__Unisoc Spreadtrum SC9863A1</th>\n",
       "      <th>Processor__Unisoc T606</th>\n",
       "      <th>Processor__Unisoc T610</th>\n",
       "      <th>Processor__Unisoc T612</th>\n",
       "      <th>Processor__Unisoc T612 processor</th>\n",
       "      <th>Processor__Unisoc T616</th>\n",
       "      <th>Processor__Unisoc Tiger T612 (12 nm)</th>\n",
       "      <th>Processor__Unisoc Tiger T616</th>\n",
       "      <th>Processor__ios</th>\n",
       "      <th>Processor__snapdragon 888</th>\n",
       "    </tr>\n",
       "  </thead>\n",
       "  <tbody>\n",
       "    <tr>\n",
       "      <th>0</th>\n",
       "      <td>64</td>\n",
       "      <td>4</td>\n",
       "      <td>6000</td>\n",
       "      <td>13MP</td>\n",
       "      <td>5MP</td>\n",
       "      <td>1</td>\n",
       "      <td>16.76</td>\n",
       "      <td>7299.0</td>\n",
       "      <td>False</td>\n",
       "      <td>False</td>\n",
       "      <td>...</td>\n",
       "      <td>True</td>\n",
       "      <td>False</td>\n",
       "      <td>False</td>\n",
       "      <td>False</td>\n",
       "      <td>False</td>\n",
       "      <td>False</td>\n",
       "      <td>False</td>\n",
       "      <td>False</td>\n",
       "      <td>False</td>\n",
       "      <td>False</td>\n",
       "    </tr>\n",
       "    <tr>\n",
       "      <th>1</th>\n",
       "      <td>64</td>\n",
       "      <td>4</td>\n",
       "      <td>6000</td>\n",
       "      <td>13MP</td>\n",
       "      <td>5MP</td>\n",
       "      <td>1</td>\n",
       "      <td>16.76</td>\n",
       "      <td>7299.0</td>\n",
       "      <td>False</td>\n",
       "      <td>False</td>\n",
       "      <td>...</td>\n",
       "      <td>True</td>\n",
       "      <td>False</td>\n",
       "      <td>False</td>\n",
       "      <td>False</td>\n",
       "      <td>False</td>\n",
       "      <td>False</td>\n",
       "      <td>False</td>\n",
       "      <td>False</td>\n",
       "      <td>False</td>\n",
       "      <td>False</td>\n",
       "    </tr>\n",
       "    <tr>\n",
       "      <th>2</th>\n",
       "      <td>128</td>\n",
       "      <td>8</td>\n",
       "      <td>5000</td>\n",
       "      <td>50MP</td>\n",
       "      <td>16MP</td>\n",
       "      <td>0</td>\n",
       "      <td>16.64</td>\n",
       "      <td>11999.0</td>\n",
       "      <td>False</td>\n",
       "      <td>False</td>\n",
       "      <td>...</td>\n",
       "      <td>False</td>\n",
       "      <td>False</td>\n",
       "      <td>False</td>\n",
       "      <td>False</td>\n",
       "      <td>False</td>\n",
       "      <td>False</td>\n",
       "      <td>False</td>\n",
       "      <td>False</td>\n",
       "      <td>False</td>\n",
       "      <td>False</td>\n",
       "    </tr>\n",
       "    <tr>\n",
       "      <th>3</th>\n",
       "      <td>32</td>\n",
       "      <td>2</td>\n",
       "      <td>5000</td>\n",
       "      <td>8MP</td>\n",
       "      <td>5MP</td>\n",
       "      <td>0</td>\n",
       "      <td>16.56</td>\n",
       "      <td>5649.0</td>\n",
       "      <td>False</td>\n",
       "      <td>False</td>\n",
       "      <td>...</td>\n",
       "      <td>False</td>\n",
       "      <td>False</td>\n",
       "      <td>False</td>\n",
       "      <td>False</td>\n",
       "      <td>False</td>\n",
       "      <td>False</td>\n",
       "      <td>False</td>\n",
       "      <td>False</td>\n",
       "      <td>False</td>\n",
       "      <td>False</td>\n",
       "    </tr>\n",
       "    <tr>\n",
       "      <th>4</th>\n",
       "      <td>128</td>\n",
       "      <td>8</td>\n",
       "      <td>5000</td>\n",
       "      <td>50MP</td>\n",
       "      <td>5MP</td>\n",
       "      <td>1</td>\n",
       "      <td>16.76</td>\n",
       "      <td>8999.0</td>\n",
       "      <td>False</td>\n",
       "      <td>False</td>\n",
       "      <td>...</td>\n",
       "      <td>False</td>\n",
       "      <td>False</td>\n",
       "      <td>False</td>\n",
       "      <td>False</td>\n",
       "      <td>False</td>\n",
       "      <td>False</td>\n",
       "      <td>False</td>\n",
       "      <td>False</td>\n",
       "      <td>False</td>\n",
       "      <td>False</td>\n",
       "    </tr>\n",
       "  </tbody>\n",
       "</table>\n",
       "<p>5 rows × 404 columns</p>\n",
       "</div>"
      ],
      "text/plain": [
       "   Memory  RAM  Battery_ Rear Camera Front Camera  AI Lens  Mobile Height  \\\n",
       "0      64    4      6000        13MP          5MP        1          16.76   \n",
       "1      64    4      6000        13MP          5MP        1          16.76   \n",
       "2     128    8      5000        50MP         16MP        0          16.64   \n",
       "3      32    2      5000         8MP          5MP        0          16.56   \n",
       "4     128    8      5000        50MP          5MP        1          16.76   \n",
       "\n",
       "     Price  Colour_Agate Black  Colour_Alpine White  ...  \\\n",
       "0   7299.0               False                False  ...   \n",
       "1   7299.0               False                False  ...   \n",
       "2  11999.0               False                False  ...   \n",
       "3   5649.0               False                False  ...   \n",
       "4   8999.0               False                False  ...   \n",
       "\n",
       "   Processor__Unisoc Spreadtrum SC9863A1  Processor__Unisoc T606  \\\n",
       "0                                   True                   False   \n",
       "1                                   True                   False   \n",
       "2                                  False                   False   \n",
       "3                                  False                   False   \n",
       "4                                  False                   False   \n",
       "\n",
       "   Processor__Unisoc T610  Processor__Unisoc T612  \\\n",
       "0                   False                   False   \n",
       "1                   False                   False   \n",
       "2                   False                   False   \n",
       "3                   False                   False   \n",
       "4                   False                   False   \n",
       "\n",
       "   Processor__Unisoc T612 processor  Processor__Unisoc T616  \\\n",
       "0                             False                   False   \n",
       "1                             False                   False   \n",
       "2                             False                   False   \n",
       "3                             False                   False   \n",
       "4                             False                   False   \n",
       "\n",
       "   Processor__Unisoc Tiger T612 (12 nm)  Processor__Unisoc Tiger T616  \\\n",
       "0                                 False                         False   \n",
       "1                                 False                         False   \n",
       "2                                 False                         False   \n",
       "3                                 False                         False   \n",
       "4                                 False                         False   \n",
       "\n",
       "   Processor__ios  Processor__snapdragon 888  \n",
       "0           False                      False  \n",
       "1           False                      False  \n",
       "2           False                      False  \n",
       "3           False                      False  \n",
       "4           False                      False  \n",
       "\n",
       "[5 rows x 404 columns]"
      ]
     },
     "execution_count": 123,
     "metadata": {},
     "output_type": "execute_result"
    }
   ],
   "source": [
    "data_encoded.head()"
   ]
  },
  {
   "cell_type": "markdown",
   "id": "3518979b-447b-43a2-b1f0-99e5193d3c55",
   "metadata": {},
   "source": [
    "- Top rows after Capping."
   ]
  },
  {
   "cell_type": "code",
   "execution_count": 124,
   "id": "a4c841ab-2ebc-453b-ac5d-ea07b7ecb85d",
   "metadata": {},
   "outputs": [
    {
     "data": {
      "image/png": "[encoded data removed]",
      "text/plain": [
       "<Figure size 1200x800 with 2 Axes>"
      ]
     },
     "metadata": {},
     "output_type": "display_data"
    },
    {
     "name": "stdout",
     "output_type": "stream",
     "text": [
      "Price            1.000000\n",
      "Memory           0.672181\n",
      "RAM              0.647331\n",
      "Mobile Height    0.222467\n",
      "Battery_         0.017318\n",
      "AI Lens         -0.182891\n",
      "Name: Price, dtype: float64\n"
     ]
    }
   ],
   "source": [
    "numeric_data_encoded = data_encoded.select_dtypes(include='number')\n",
    "\n",
    "correlation = numeric_data_encoded.corr()\n",
    "\n",
    "plt.figure(figsize=(12, 8))\n",
    "sns.heatmap(correlation, annot=True, cmap='coolwarm', fmt=\".2f\")\n",
    "plt.title(\"Correlation Heatmap\")\n",
    "plt.show()\n",
    "\n",
    "print(correlation['Price'].sort_values(ascending=False))"
   ]
  },
  {
   "cell_type": "markdown",
   "id": "d85c5e63-0659-4f80-b85d-45f3ab2652ff",
   "metadata": {},
   "source": [
    "- Heatmap is created to visualize the correlation of all numerical columns with the Price column.\n",
    "- Memory and RAM have the most importance in affecting Price(0.67 and 0.65 respectively). As the values of Memory and RAM increases, Price also increases."
   ]
  },
  {
   "cell_type": "code",
   "execution_count": 126,
   "id": "53a84ff5-2580-4fb4-9881-b4419b76792c",
   "metadata": {},
   "outputs": [
    {
     "data": {
      "image/png": "[encoded data removed]",
      "text/plain": [
       "<Figure size 1000x600 with 1 Axes>"
      ]
     },
     "metadata": {},
     "output_type": "display_data"
    },
    {
     "name": "stdout",
     "output_type": "stream",
     "text": [
      "Memory           0.410150\n",
      "Battery_         0.221335\n",
      "Mobile Height    0.181111\n",
      "RAM              0.172034\n",
      "AI Lens          0.015370\n",
      "dtype: float64\n"
     ]
    }
   ],
   "source": [
    "from sklearn.ensemble import RandomForestRegressor\n",
    "from sklearn.model_selection import train_test_split\n",
    "\n",
    "X = numeric_data_encoded.drop(columns=['Price'])\n",
    "y = numeric_data_encoded['Price']\n",
    "\n",
    "X_train, X_test, y_train, y_test = train_test_split(X, y, test_size=0.2, random_state=42)\n",
    "\n",
    "model = RandomForestRegressor()\n",
    "model.fit(X_train, y_train)\n",
    "\n",
    "importances = pd.Series(model.feature_importances_, index=X.columns)\n",
    "importances.sort_values(ascending=True).plot(kind='barh', figsize=(10, 6), title=\"Feature Importance\")\n",
    "plt.show()\n",
    "\n",
    "print(importances.sort_values(ascending=False))"
   ]
  },
  {
   "cell_type": "markdown",
   "id": "f11c7d21-e469-48b2-a128-95a933c43491",
   "metadata": {},
   "source": [
    "- Importance of features based on model context- Random Forest-\n",
    "- It shows that how much each feature reduces prediction error across all the trees in the forest. High importance means a feature was frequently used to split data and those splits significantly improved accuracy.\n",
    "- Memory has highest influence in prediction.\n",
    "- Battery, Mobile height and RAM have little low influence in predicting.\n",
    "- AI lens has no influence in prediction."
   ]
  },
  {
   "cell_type": "code",
   "execution_count": 127,
   "id": "63d77ece-d458-470d-a0f3-ca4705af2e5f",
   "metadata": {},
   "outputs": [
    {
     "name": "stdout",
     "output_type": "stream",
     "text": [
      "   Rear Camera  Front Camera\n",
      "0         13.0           5.0\n",
      "1         13.0           5.0\n",
      "2         50.0          16.0\n",
      "3          8.0           5.0\n",
      "4         50.0           5.0\n"
     ]
    }
   ],
   "source": [
    "data_encoded['Rear Camera'] = data_encoded['Rear Camera'].str.replace('mp', '', case=False).str.extract(r'(\\d+\\.?\\d*)').astype(float)\n",
    "data_encoded['Front Camera'] = data_encoded['Front Camera'].str.replace('mp', '', case=False).str.extract(r'(\\d+\\.?\\d*)').astype(float)\n",
    "\n",
    "print(data_encoded[['Rear Camera', 'Front Camera']].head())"
   ]
  },
  {
   "cell_type": "markdown",
   "id": "fe4b9f54-bcef-40d2-9ee3-3360b2e929ee",
   "metadata": {},
   "source": [
    "- Rear Camera and Front Camera are object columns due to MP mentioned in datapoints.\n",
    "- MP is removed from all datapoints and columns are converted to float datatype."
   ]
  },
  {
   "cell_type": "code",
   "execution_count": 129,
   "id": "0f1fb0e8-1727-4642-8b92-28c7c5a688eb",
   "metadata": {},
   "outputs": [],
   "source": [
    "from sklearn.model_selection import train_test_split\n",
    "from sklearn.linear_model import LinearRegression\n",
    "from sklearn.tree import DecisionTreeRegressor\n",
    "from sklearn.ensemble import RandomForestRegressor\n",
    "from sklearn.metrics import mean_absolute_error,mean_squared_error, r2_score"
   ]
  },
  {
   "cell_type": "markdown",
   "id": "f1633abb-da31-4805-bab7-dd1b8b431da0",
   "metadata": {},
   "source": [
    "- Importing libraries for model building and prediction.\n",
    "- sklearn- It provides simple and efficient tools for data mining, machine learning, and model evaluation, built on NumPy, SciPy, and matplotlib.\n",
    "- Train_test_split- For splitting the dataset into two parts for trainig the model and predicting the model.\n",
    "- As it is a regression type model,\n",
    "- Linear Regression- It is a simple and widely used model that fits a linear relationship between independent variables and a continuous target using the least squares method.\n",
    "- Decision Tree Regressor- It is a non-linear model that predicts continuous target values by learning decision rules from the features, using a tree-like structure to split data into regions with similar output values.\n",
    "- Random Forest Regressor- It is an ensemble learning model that builds multiple decision trees and averages their predictions to improve accuracy and reduce overfitting in regression tasks.\n",
    "- Mean_absolute_error- It is a metric that calculates the average absolute difference between actual and predicted values, providing a straightforward measure of prediction accuracy in regression tasks.\n",
    "- R2_score- It measures the proportion of variance in the target variable that is explained by the model, indicating the goodness of fit—where 1.0 means perfect prediction and 0.0 means the model does no better than the mean."
   ]
  },
  {
   "cell_type": "code",
   "execution_count": 130,
   "id": "e0607d12-7374-4c60-93aa-37425cff5367",
   "metadata": {},
   "outputs": [],
   "source": [
    "X = data_encoded.drop(columns=['Price'])\n",
    "y = data_encoded['Price']\n",
    "\n",
    "X_train, X_test, y_train, y_test = train_test_split(X, y, test_size=0.2, random_state=42)"
   ]
  },
  {
   "cell_type": "markdown",
   "id": "030d6e56-d130-4067-bc7e-e6604644cac7",
   "metadata": {},
   "source": [
    "- Split the dataset into four parts-\n",
    "- 1. Training set with input values.\n",
    "  2. Trainig set with output value.\n",
    "  3. Testing set with input values.\n",
    "  4. Testing set with output value."
   ]
  },
  {
   "cell_type": "code",
   "execution_count": 131,
   "id": "61b260d6-3d88-48c4-b4b0-e48716afbb4e",
   "metadata": {},
   "outputs": [
    {
     "name": "stdout",
     "output_type": "stream",
     "text": [
      "Linear Regression R²: 0.6086993006348744\n",
      "Linear Regression RMSE: 5028.110235902314\n"
     ]
    },
    {
     "name": "stderr",
     "output_type": "stream",
     "text": [
      "C:\\Users\\ALANKAR\\AppData\\Local\\anaconda3\\Lib\\site-packages\\sklearn\\metrics\\_regression.py:483: FutureWarning: 'squared' is deprecated in version 1.4 and will be removed in 1.6. To calculate the root mean squared error, use the function'root_mean_squared_error'.\n",
      "  warnings.warn(\n"
     ]
    }
   ],
   "source": [
    "#Linear Regression\n",
    "lr = LinearRegression()\n",
    "lr.fit(X_train, y_train)\n",
    "lr_preds = lr.predict(X_test)\n",
    "\n",
    "print(\"Linear Regression R²:\", r2_score(y_test, lr_preds))\n",
    "print(\"Linear Regression RMSE:\", mean_squared_error(y_test, lr_preds, squared=False))"
   ]
  },
  {
   "cell_type": "markdown",
   "id": "fffc8278-dd4a-4c4f-9025-edabf043f96d",
   "metadata": {},
   "source": [
    "- Trainig the model on Linear Regression algorithm."
   ]
  },
  {
   "cell_type": "code",
   "execution_count": 133,
   "id": "fc721957-d13f-4e33-9304-dffb287da11f",
   "metadata": {},
   "outputs": [
    {
     "name": "stdout",
     "output_type": "stream",
     "text": [
      "Mean Absolute Error (MAE): ₹3050.20\n",
      "Root Mean Squared Error (RMSE): ₹5028.11\n",
      "R² Score: 0.609\n"
     ]
    },
    {
     "name": "stderr",
     "output_type": "stream",
     "text": [
      "C:\\Users\\ALANKAR\\AppData\\Local\\anaconda3\\Lib\\site-packages\\sklearn\\metrics\\_regression.py:483: FutureWarning: 'squared' is deprecated in version 1.4 and will be removed in 1.6. To calculate the root mean squared error, use the function'root_mean_squared_error'.\n",
      "  warnings.warn(\n"
     ]
    }
   ],
   "source": [
    "mae = mean_absolute_error(y_test, lr_preds)\n",
    "rmse = mean_squared_error(y_test, lr_preds, squared=False)\n",
    "r2 = r2_score(y_test, lr_preds)\n",
    "\n",
    "print(f\"Mean Absolute Error (MAE): ₹{mae:.2f}\")\n",
    "print(f\"Root Mean Squared Error (RMSE): ₹{rmse:.2f}\")\n",
    "print(f\"R² Score: {r2:.3f}\")"
   ]
  },
  {
   "cell_type": "markdown",
   "id": "e378cd99-fb25-4313-8bb8-18f277e95798",
   "metadata": {},
   "source": [
    "- MAE is 3050, which means on average the difference between actual price and predicted price is Rs 3050.20.\n",
    "- RMSE is 5028, which means larger errors are higher.\n",
    "- R2 score is 0.60, which means model is giving 60% corrrect predictions."
   ]
  },
  {
   "cell_type": "code",
   "execution_count": 134,
   "id": "35c257b5-7b33-4371-befc-beffb1c0849c",
   "metadata": {},
   "outputs": [
    {
     "name": "stdout",
     "output_type": "stream",
     "text": [
      "Decision Tree R²: 0.7581660325091074\n",
      "Decision Tree RMSE: 3952.8299270141365\n"
     ]
    },
    {
     "name": "stderr",
     "output_type": "stream",
     "text": [
      "C:\\Users\\ALANKAR\\AppData\\Local\\anaconda3\\Lib\\site-packages\\sklearn\\metrics\\_regression.py:483: FutureWarning: 'squared' is deprecated in version 1.4 and will be removed in 1.6. To calculate the root mean squared error, use the function'root_mean_squared_error'.\n",
      "  warnings.warn(\n"
     ]
    }
   ],
   "source": [
    "#Decision Tree\n",
    "dt = DecisionTreeRegressor(random_state=42)\n",
    "dt.fit(X_train, y_train)\n",
    "dt_preds = dt.predict(X_test)\n",
    "\n",
    "print(\"Decision Tree R²:\", r2_score(y_test, dt_preds))\n",
    "print(\"Decision Tree RMSE:\", mean_squared_error(y_test, dt_preds, squared=False))"
   ]
  },
  {
   "cell_type": "markdown",
   "id": "26c06f55-8d06-44c7-8ac5-b81ca35ce622",
   "metadata": {},
   "source": [
    "- Training the model on Decision Tree algorithm."
   ]
  },
  {
   "cell_type": "code",
   "execution_count": 135,
   "id": "be0e0990-ef17-4283-84fa-9c6290b80351",
   "metadata": {},
   "outputs": [
    {
     "name": "stdout",
     "output_type": "stream",
     "text": [
      "Mean Absolute Error (MAE): ₹1579.25\n",
      "Root Mean Squared Error (RMSE): ₹3952.83\n",
      "R² Score: 0.758\n"
     ]
    },
    {
     "name": "stderr",
     "output_type": "stream",
     "text": [
      "C:\\Users\\ALANKAR\\AppData\\Local\\anaconda3\\Lib\\site-packages\\sklearn\\metrics\\_regression.py:483: FutureWarning: 'squared' is deprecated in version 1.4 and will be removed in 1.6. To calculate the root mean squared error, use the function'root_mean_squared_error'.\n",
      "  warnings.warn(\n"
     ]
    }
   ],
   "source": [
    "mae = mean_absolute_error(y_test, dt_preds)\n",
    "rmse = mean_squared_error(y_test, dt_preds, squared=False)\n",
    "r2 = r2_score(y_test, dt_preds)\n",
    "\n",
    "print(f\"Mean Absolute Error (MAE): ₹{mae:.2f}\")\n",
    "print(f\"Root Mean Squared Error (RMSE): ₹{rmse:.2f}\")\n",
    "print(f\"R² Score: {r2:.3f}\")"
   ]
  },
  {
   "cell_type": "markdown",
   "id": "a902f7ba-395f-4b26-9020-ac68534dba4b",
   "metadata": {},
   "source": [
    "- Average MAE error is very less than linear regression(Rs 1579.25)\n",
    "- Large errors are also less than linear regression( Rs 3952.83)\n",
    "- Prediction accuracy is 75.8%."
   ]
  },
  {
   "cell_type": "code",
   "execution_count": 136,
   "id": "d4221dc7-f716-4754-bebe-32ca9057f928",
   "metadata": {},
   "outputs": [
    {
     "name": "stdout",
     "output_type": "stream",
     "text": [
      "Random Forest R²: 0.820979851233657\n",
      "Random Forest RMSE: 3400.9514743310365\n"
     ]
    },
    {
     "name": "stderr",
     "output_type": "stream",
     "text": [
      "C:\\Users\\ALANKAR\\AppData\\Local\\anaconda3\\Lib\\site-packages\\sklearn\\metrics\\_regression.py:483: FutureWarning: 'squared' is deprecated in version 1.4 and will be removed in 1.6. To calculate the root mean squared error, use the function'root_mean_squared_error'.\n",
      "  warnings.warn(\n"
     ]
    }
   ],
   "source": [
    "#Random Forrest\n",
    "rf = RandomForestRegressor(n_estimators=100, random_state=42)\n",
    "rf.fit(X_train, y_train)\n",
    "rf_preds = rf.predict(X_test)\n",
    "\n",
    "print(\"Random Forest R²:\", r2_score(y_test, rf_preds))\n",
    "print(\"Random Forest RMSE:\", mean_squared_error(y_test, rf_preds, squared=False))"
   ]
  },
  {
   "cell_type": "markdown",
   "id": "6541fd60-76be-4315-922c-fe035f518d8d",
   "metadata": {},
   "source": [
    "- Training the model on Random Forest algorithm."
   ]
  },
  {
   "cell_type": "code",
   "execution_count": 137,
   "id": "c73a9d1d-f2a7-4cbd-86ad-0085a55b50dd",
   "metadata": {},
   "outputs": [
    {
     "name": "stdout",
     "output_type": "stream",
     "text": [
      "Mean Absolute Error (MAE): ₹1684.32\n",
      "Root Mean Squared Error (RMSE): ₹3400.95\n",
      "R² Score: 0.821\n"
     ]
    },
    {
     "name": "stderr",
     "output_type": "stream",
     "text": [
      "C:\\Users\\ALANKAR\\AppData\\Local\\anaconda3\\Lib\\site-packages\\sklearn\\metrics\\_regression.py:483: FutureWarning: 'squared' is deprecated in version 1.4 and will be removed in 1.6. To calculate the root mean squared error, use the function'root_mean_squared_error'.\n",
      "  warnings.warn(\n"
     ]
    }
   ],
   "source": [
    "mae = mean_absolute_error(y_test, rf_preds)\n",
    "rmse = mean_squared_error(y_test, rf_preds, squared=False)\n",
    "r2 = r2_score(y_test, rf_preds)\n",
    "\n",
    "print(f\"Mean Absolute Error (MAE): ₹{mae:.2f}\")\n",
    "print(f\"Root Mean Squared Error (RMSE): ₹{rmse:.2f}\")\n",
    "print(f\"R² Score: {r2:.3f}\")"
   ]
  },
  {
   "cell_type": "markdown",
   "id": "6c79f79c-0b12-49e7-9728-370d92fc6460",
   "metadata": {},
   "source": [
    "- MAE and RMSE are somewhat similar to decision tree algorithm model.\n",
    "- Prediction accuracy is far better than decision tree model(82%)."
   ]
  },
  {
   "cell_type": "code",
   "execution_count": 138,
   "id": "c25532ae-0ae1-459e-807e-fdfd29dbd774",
   "metadata": {},
   "outputs": [
    {
     "name": "stdout",
     "output_type": "stream",
     "text": [
      "Requirement already satisfied: xgboost in c:\\users\\alankar\\appdata\\local\\anaconda3\\lib\\site-packages (3.0.1)\n",
      "Requirement already satisfied: numpy in c:\\users\\alankar\\appdata\\local\\anaconda3\\lib\\site-packages (from xgboost) (1.26.4)\n",
      "Requirement already satisfied: scipy in c:\\users\\alankar\\appdata\\local\\anaconda3\\lib\\site-packages (from xgboost) (1.13.1)\n"
     ]
    }
   ],
   "source": [
    "!pip install xgboost --use-pep517"
   ]
  },
  {
   "cell_type": "code",
   "execution_count": 139,
   "id": "0bd7c5c6-f5b3-4778-9a43-267543d0bec1",
   "metadata": {},
   "outputs": [],
   "source": [
    "from xgboost import XGBRegressor"
   ]
  },
  {
   "cell_type": "markdown",
   "id": "cca221dd-69e8-48d3-8275-449bbb4f147d",
   "metadata": {},
   "source": [
    "- XgBoost- It is an efficient gradient boosting framework for better speed and performance. XGBoost works by building an ensemble of decision trees sequentially, where each new tree corrects the errors of the previous ones using gradient descent to minimize a specified loss function, resulting in a strong predictive model."
   ]
  },
  {
   "cell_type": "code",
   "execution_count": 141,
   "id": "44ffb495-d278-4d30-ae2a-8d945b491842",
   "metadata": {},
   "outputs": [
    {
     "name": "stdout",
     "output_type": "stream",
     "text": [
      "XGBoost R² Score: 0.835\n",
      "XGBoost RMSE: 3262.73\n"
     ]
    },
    {
     "name": "stderr",
     "output_type": "stream",
     "text": [
      "C:\\Users\\ALANKAR\\AppData\\Local\\anaconda3\\Lib\\site-packages\\sklearn\\metrics\\_regression.py:483: FutureWarning: 'squared' is deprecated in version 1.4 and will be removed in 1.6. To calculate the root mean squared error, use the function'root_mean_squared_error'.\n",
      "  warnings.warn(\n"
     ]
    }
   ],
   "source": [
    "#XG Boost\n",
    "model = XGBRegressor(n_estimators=100, learning_rate=0.1, random_state=42)\n",
    "model.fit(X_train, y_train)\n",
    "predictions = model.predict(X_test)\n",
    "\n",
    "r2 = r2_score(y_test, predictions)\n",
    "rmse = mean_squared_error(y_test, predictions, squared=False)\n",
    "\n",
    "print(f\"XGBoost R² Score: {r2:.3f}\")\n",
    "print(f\"XGBoost RMSE: {rmse:.2f}\")"
   ]
  },
  {
   "cell_type": "markdown",
   "id": "ed18553c-2d98-4522-b329-2d6937766252",
   "metadata": {},
   "source": [
    "- Training the model on XGBoost algorithm."
   ]
  },
  {
   "cell_type": "code",
   "execution_count": 142,
   "id": "aa3db7f5-d713-4276-804b-f42286d6bf26",
   "metadata": {},
   "outputs": [
    {
     "name": "stdout",
     "output_type": "stream",
     "text": [
      "Mean Absolute Error (MAE): ₹1713.76\n",
      "Root Mean Squared Error (RMSE): ₹3262.73\n",
      "R² Score: 0.835\n"
     ]
    },
    {
     "name": "stderr",
     "output_type": "stream",
     "text": [
      "C:\\Users\\ALANKAR\\AppData\\Local\\anaconda3\\Lib\\site-packages\\sklearn\\metrics\\_regression.py:483: FutureWarning: 'squared' is deprecated in version 1.4 and will be removed in 1.6. To calculate the root mean squared error, use the function'root_mean_squared_error'.\n",
      "  warnings.warn(\n"
     ]
    }
   ],
   "source": [
    "mae = mean_absolute_error(y_test, predictions)\n",
    "rmse = mean_squared_error(y_test, predictions, squared=False)\n",
    "r2 = r2_score(y_test, predictions)\n",
    "\n",
    "print(f\"Mean Absolute Error (MAE): ₹{mae:.2f}\")\n",
    "print(f\"Root Mean Squared Error (RMSE): ₹{rmse:.2f}\")\n",
    "print(f\"R² Score: {r2:.3f}\")"
   ]
  },
  {
   "cell_type": "markdown",
   "id": "e3d1e0ef-2d1b-4126-b693-b94983f919f0",
   "metadata": {},
   "source": [
    "- Mean absolute error is slightly higher than decision tree and random forest.\n",
    "- RMSE is lower than other algorithms.\n",
    "- Prediction accuracy is 83.5%."
   ]
  },
  {
   "cell_type": "code",
   "execution_count": 143,
   "id": "b4319930-9fd8-4743-97d5-e3f18b397f7a",
   "metadata": {},
   "outputs": [],
   "source": [
    "from sklearn.model_selection import RandomizedSearchCV"
   ]
  },
  {
   "cell_type": "markdown",
   "id": "66b95d6b-f553-4ce8-8234-cd6f4529ddb0",
   "metadata": {},
   "source": [
    "- Randomized Search CV- Searches the best options for all parameters for better accuracy and least errors."
   ]
  },
  {
   "cell_type": "code",
   "execution_count": 144,
   "id": "83128ca3-a490-46fd-b100-d13d7705d38d",
   "metadata": {},
   "outputs": [],
   "source": [
    "param_grid = {\n",
    "    'n_estimators': [100, 200, 300, 500],\n",
    "    'learning_rate': [0.01, 0.05, 0.1, 0.2],\n",
    "    'max_depth': [3, 5, 7, 10],\n",
    "    'subsample': [0.6, 0.8, 1.0],\n",
    "    'colsample_bytree': [0.6, 0.8, 1.0],\n",
    "    'gamma': [0, 1, 5],\n",
    "    'reg_alpha': [0, 0.1, 1],\n",
    "    'reg_lambda': [1, 1.5, 2]\n",
    "}"
   ]
  },
  {
   "cell_type": "markdown",
   "id": "9a3eb0db-759d-4958-b768-e9d6b6e925c3",
   "metadata": {},
   "source": [
    "- Given values for different parameters to choose from for better accuracy."
   ]
  },
  {
   "cell_type": "code",
   "execution_count": 145,
   "id": "ca6c03fd-b640-417e-9935-37aa56cf428f",
   "metadata": {},
   "outputs": [],
   "source": [
    "xgb = XGBRegressor(random_state=42)\n",
    "random_search = RandomizedSearchCV(\n",
    "    estimator=xgb,\n",
    "    param_distributions=param_grid,\n",
    "    n_iter=50,\n",
    "    scoring='r2',\n",
    "    cv=3,\n",
    "    verbose=1,\n",
    "    n_jobs=-1\n",
    ")"
   ]
  },
  {
   "cell_type": "markdown",
   "id": "5677fe78-3acb-4c3e-b7a8-084174023f50",
   "metadata": {},
   "source": [
    "- Training model with chosen best values of parameters."
   ]
  },
  {
   "cell_type": "code",
   "execution_count": 146,
   "id": "a80cc706-87b6-4f5c-a0df-b41d38129de2",
   "metadata": {},
   "outputs": [
    {
     "name": "stdout",
     "output_type": "stream",
     "text": [
      "Fitting 3 folds for each of 50 candidates, totalling 150 fits\n",
      "Best Parameters: {'subsample': 0.8, 'reg_lambda': 1.5, 'reg_alpha': 0, 'n_estimators': 500, 'max_depth': 7, 'learning_rate': 0.05, 'gamma': 0, 'colsample_bytree': 0.6}\n"
     ]
    }
   ],
   "source": [
    "random_search.fit(X_train, y_train)\n",
    "print(\"Best Parameters:\", random_search.best_params_)"
   ]
  },
  {
   "cell_type": "markdown",
   "id": "9aa1b9d3-6cfa-4849-b875-31600f098019",
   "metadata": {},
   "source": [
    "- Values of all the parameters used in trainig."
   ]
  },
  {
   "cell_type": "code",
   "execution_count": 147,
   "id": "05997f1d-9bf9-4302-bf5f-3ab7db9687b6",
   "metadata": {},
   "outputs": [
    {
     "name": "stdout",
     "output_type": "stream",
     "text": [
      "Improved XGBoost R²: 0.906\n",
      "MAE: 1408.85\n",
      "RMSE: 2464.98\n"
     ]
    },
    {
     "name": "stderr",
     "output_type": "stream",
     "text": [
      "C:\\Users\\ALANKAR\\AppData\\Local\\anaconda3\\Lib\\site-packages\\sklearn\\metrics\\_regression.py:483: FutureWarning: 'squared' is deprecated in version 1.4 and will be removed in 1.6. To calculate the root mean squared error, use the function'root_mean_squared_error'.\n",
      "  warnings.warn(\n"
     ]
    }
   ],
   "source": [
    "best_model = random_search.best_estimator_\n",
    "predictions = best_model.predict(X_test)\n",
    "\n",
    "mae = mean_absolute_error(y_test, predictions)\n",
    "rmse = mean_squared_error(y_test, predictions, squared=False)\n",
    "r2 = r2_score(y_test, predictions)\n",
    "\n",
    "print(f\"Improved XGBoost R²: {r2:.3f}\")\n",
    "print(f\"MAE: {mae:.2f}\")\n",
    "print(f\"RMSE: {rmse:.2f}\")"
   ]
  },
  {
   "cell_type": "markdown",
   "id": "d1c9a3b2-75fe-4156-90cb-83ec2cf55c5e",
   "metadata": {},
   "source": [
    "- Improved the accuracy from 83.5% to 90.6%.\n",
    "- MAE and RMSE are also reduced."
   ]
  },
  {
   "cell_type": "code",
   "execution_count": null,
   "id": "6112fe45-bf61-4fef-a89c-e61f4ffed479",
   "metadata": {},
   "outputs": [],
   "source": []
  }
 ],
 "metadata": {
  "kernelspec": {
   "display_name": "Python 3 (ipykernel)",
   "language": "python",
   "name": "python3"
  },
  "language_info": {
   "codemirror_mode": {
    "name": "ipython",
    "version": 3
   },
   "file_extension": ".py",
   "mimetype": "text/x-python",
   "name": "python",
   "nbconvert_exporter": "python",
   "pygments_lexer": "ipython3",
   "version": "3.12.4"
  }
 },
 "nbformat": 4,
 "nbformat_minor": 5
}
